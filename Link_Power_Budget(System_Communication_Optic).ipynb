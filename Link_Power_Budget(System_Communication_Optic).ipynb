{
  "nbformat": 4,
  "nbformat_minor": 0,
  "metadata": {
    "colab": {
      "name": "Link Power Budget(System Communication Optic).ipynb",
      "provenance": [],
      "collapsed_sections": [],
      "authorship_tag": "ABX9TyMnI12vAaBtg2o0fcFan8B3",
      "include_colab_link": true
    },
    "kernelspec": {
      "name": "python3",
      "display_name": "Python 3"
    }
  },
  "cells": [
    {
      "cell_type": "markdown",
      "metadata": {
        "id": "view-in-github",
        "colab_type": "text"
      },
      "source": [
        "<a href=\"https://colab.research.google.com/github/Abelbimaw/System-Communication-Optic/blob/main/Link_Power_Budget(System_Communication_Optic).ipynb\" target=\"_parent\"><img src=\"https://colab.research.google.com/assets/colab-badge.svg\" alt=\"Open In Colab\"/></a>"
      ]
    },
    {
      "cell_type": "code",
      "metadata": {
        "id": "4x5gI8FZ_nA8"
      },
      "source": [
        "import numpy as np\n",
        "from matplotlib import pyplot as plt"
      ],
      "execution_count": 1,
      "outputs": []
    },
    {
      "cell_type": "code",
      "metadata": {
        "colab": {
          "base_uri": "https://localhost:8080/",
          "height": 516
        },
        "id": "pTW2C7Te2Oeq",
        "outputId": "a2887cfd-7629-4cfe-c84f-36439110a1b5"
      },
      "source": [
        "#Declaration \n",
        "L= np.arange(0,60)\n",
        "N = 29\n",
        "af= 0.2 #constanta attenuation (dB/Km)\n",
        "asp = 0.2 #constanta splice\n",
        "ac = 0.5 #attenuation connector\n",
        "lamda = 1.3*10**-6\n",
        "Ps = 10**-3\n",
        "margin = 6\n",
        "\n",
        "#Formula\n",
        "At= (2*ac) + (N*asp) + (af*L) + margin\n",
        "Pr = Ps - At \n",
        "\n",
        "#Plotting\n",
        "plt.plot(L,Pr, \"--\")\n",
        "plt.title(\"Ratio of Pr to L\")\n",
        "plt.ylabel(\"Pr (Watt)\")\n",
        "plt.xlabel(\"L (Km)\")\n",
        "plt.show()\n",
        "print(\"#Pr (WATT)\")\n",
        "print(Pr)\n",
        "print(\"\\n#L (KM)\")\n",
        "print(L)"
      ],
      "execution_count": 4,
      "outputs": [
        {
          "output_type": "display_data",
          "data": {
            "image/png": "[encoded data removed]",
            "text/plain": [
              "<Figure size 432x288 with 1 Axes>"
            ]
          },
          "metadata": {
            "tags": [],
            "needs_background": "light"
          }
        },
        {
          "output_type": "stream",
          "text": [
            "#Pr (WATT)\n",
            "[-12.799 -12.999 -13.199 -13.399 -13.599 -13.799 -13.999 -14.199 -14.399\n",
            " -14.599 -14.799 -14.999 -15.199 -15.399 -15.599 -15.799 -15.999 -16.199\n",
            " -16.399 -16.599 -16.799 -16.999 -17.199 -17.399 -17.599 -17.799 -17.999\n",
            " -18.199 -18.399 -18.599 -18.799 -18.999 -19.199 -19.399 -19.599 -19.799\n",
            " -19.999 -20.199 -20.399 -20.599 -20.799 -20.999 -21.199 -21.399 -21.599\n",
            " -21.799 -21.999 -22.199 -22.399 -22.599 -22.799 -22.999 -23.199 -23.399\n",
            " -23.599 -23.799 -23.999 -24.199 -24.399 -24.599]\n",
            "\n",
            "#L (KM)\n",
            "[ 0  1  2  3  4  5  6  7  8  9 10 11 12 13 14 15 16 17 18 19 20 21 22 23\n",
            " 24 25 26 27 28 29 30 31 32 33 34 35 36 37 38 39 40 41 42 43 44 45 46 47\n",
            " 48 49 50 51 52 53 54 55 56 57 58 59]\n"
          ],
          "name": "stdout"
        }
      ]
    }
  ]
}